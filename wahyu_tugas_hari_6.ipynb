{
 "cells": [
  {
   "cell_type": "markdown",
   "id": "e56c658a",
   "metadata": {},
   "source": [
    "# Soal 1: Comparison Operator\n",
    "\n",
    "Berikan contoh comparison dari tipe data string\n",
    "Berikan contoh comparison dari tipe data boolean\n",
    "Berikan contoh comparison dari tipe data integer"
   ]
  },
  {
   "cell_type": "code",
   "execution_count": 3,
   "id": "79bcbd78",
   "metadata": {},
   "outputs": [
    {
     "name": "stdout",
     "output_type": "stream",
     "text": [
      "comparison string (ayu dengan ayu) True\n",
      "comparison boolean (true dengan true) True\n",
      "comparison integer (1 dengan 2) False\n"
     ]
    }
   ],
   "source": [
    "print ('comparison string (ayu dengan ayu)', 'ayu' == 'ayu')\n",
    "print ('comparison boolean (true dengan true)', 'True' == 'True')\n",
    "print ('comparison integer (1 dengan 2)', 1 == 2)"
   ]
  },
  {
   "cell_type": "markdown",
   "id": "4f40b4c6",
   "metadata": {},
   "source": [
    "# Soal 2: Boolean Comparison\n",
    "\n",
    "Berikan contoh gabungan multiple comparison menggunkan Boolean Comparisin 'and'\n",
    "Berikan contoh gabungan multiple comparison menggunkan Boolean Comparisin 'or'\n",
    "Berikan contoh gabungan multiple comparison menggunkan Boolean Comparisin 'not'"
   ]
  },
  {
   "cell_type": "code",
   "execution_count": 4,
   "id": "123c190c",
   "metadata": {},
   "outputs": [
    {
     "name": "stdout",
     "output_type": "stream",
     "text": [
      "SALAH\n"
     ]
    }
   ],
   "source": [
    "a = 'ayu' == 'ayu'\n",
    "b = 'ayu' == 'baba'\n",
    "\n",
    "if ((a and b)):\n",
    "    print (\"BENAR\")\n",
    "else:\n",
    "    print (\"SALAH\")"
   ]
  },
  {
   "cell_type": "code",
   "execution_count": 5,
   "id": "3d6d5caa",
   "metadata": {},
   "outputs": [
    {
     "name": "stdout",
     "output_type": "stream",
     "text": [
      "BENAR\n"
     ]
    }
   ],
   "source": [
    "a = 'ayu' == 'ayu'\n",
    "b = 'ayu' == 'baba'\n",
    "\n",
    "if ((a or b)):\n",
    "    print (\"BENAR\")\n",
    "else:\n",
    "    print (\"SALAH\")"
   ]
  },
  {
   "cell_type": "code",
   "execution_count": 7,
   "id": "e0ffe20d",
   "metadata": {},
   "outputs": [
    {
     "name": "stdout",
     "output_type": "stream",
     "text": [
      "BENAR\n"
     ]
    }
   ],
   "source": [
    "a = 'ayu' == 'ayu'\n",
    "b = 'ayu' == 'baba'\n",
    "\n",
    "if ((not b)):\n",
    "    print (\"BENAR\")\n",
    "else:\n",
    "    print (\"SALAH\")"
   ]
  },
  {
   "cell_type": "markdown",
   "id": "ca265fb4",
   "metadata": {},
   "source": [
    "# Soal 3: If-Else Statement\n",
    "\n",
    "Lengkapi kode untuk menghasilkan suatu output yang di harapkan\n",
    "\n",
    "Bualah sebuah if-else statement yang dimana akan mem-print 'High' jika grade adalah 'A' dan price lebih dari 100000, kemudian mem-print 'Medium' jika grade adalah 'A' dan price lebih dari 50000 dan memprint 'low' jika grade adalah 'A' dan price lebih kecil dan sama dengan 50000."
   ]
  },
  {
   "cell_type": "code",
   "execution_count": 1,
   "id": "d8f46033",
   "metadata": {},
   "outputs": [
    {
     "name": "stdout",
     "output_type": "stream",
     "text": [
      "High\n"
     ]
    }
   ],
   "source": [
    "grade = 'A'\n",
    "price = 20000\n",
    "\n",
    "if grade==\"A\" and price>10000:\n",
    "    print ('High')\n",
    "elif grade==\"A\" and price>50000:\n",
    "    print ('Medium')\n",
    "elif grade==\"A\" and price>0:\n",
    "    print ('Low')"
   ]
  },
  {
   "cell_type": "markdown",
   "id": "7510dced",
   "metadata": {},
   "source": [
    "# Soal 4: Comparison Operator dengan fungsi\n",
    "\n",
    "Buatlah sebuah fungsi yang menerima satu argument bertipe data numeric dan menghasilkan sebuah return sebagai berikut :\n",
    "\n",
    "menghasilkan return 'Aneh' jika nilai dari argument tersebut adalah bilangan ganjil\n",
    "menghasilkan return 'Tidak Aneh' jika nilai dari argument tersebut adalah bilangan genap dan diantara nilai 2 sampai 5 (2 dan 5 termasuk)\n",
    "menghasilkan return 'Aneh' jika nilai dari argument tersebut adalah bilangan genap dan diantara nilai 6 sampai 20 (6 dan 20 termasuk)\n",
    "menghasilkan return 'Tidak Aneh' jika nilai dari argument tersebut adalah bilangan genap dan lebih besari dari 20"
   ]
  },
  {
   "cell_type": "code",
   "execution_count": 9,
   "id": "4893ee74",
   "metadata": {},
   "outputs": [
    {
     "name": "stdout",
     "output_type": "stream",
     "text": [
      "Aneh\n"
     ]
    }
   ],
   "source": [
    "def jenis(angka):\n",
    "    \n",
    "    if ((angka % 2) == 0):\n",
    "        if (angka >=2 and angka <=5):\n",
    "            return 'Tidak Aneh'\n",
    "        if (angka >=6 and angka <=20):\n",
    "            return 'Aneh'\n",
    "        else:\n",
    "            return 'Tidak Aneh'\n",
    "    else:\n",
    "        return 'Aneh'\n",
    "print (jenis(7))"
   ]
  },
  {
   "cell_type": "markdown",
   "id": "200d5008",
   "metadata": {},
   "source": [
    "# Soal 5: While Loop dan For Loop\n",
    "\n",
    "Apa perbedaan while loop dan for loop?\n",
    "Berikan contoh sederhana cara menggunakan while loop dan for loop"
   ]
  },
  {
   "cell_type": "code",
   "execution_count": 10,
   "id": "3fc31361",
   "metadata": {},
   "outputs": [
    {
     "name": "stdout",
     "output_type": "stream",
     "text": [
      "While Loop digunakan ketika jumlah perulangan belum ditentukan (uncountable) sedangkan For Loop digunakan pada perulangan yang sudah diketahui jumlah perulangannya (countable).\n"
     ]
    }
   ],
   "source": [
    "print (\"While Loop digunakan ketika jumlah perulangan belum ditentukan (uncountable) sedangkan For Loop digunakan pada perulangan yang sudah diketahui jumlah perulangannya (countable).\")"
   ]
  },
  {
   "cell_type": "code",
   "execution_count": 12,
   "id": "949945c0",
   "metadata": {},
   "outputs": [
    {
     "name": "stdout",
     "output_type": "stream",
     "text": [
      "While Loop\n",
      "5 10 15 20 25 30 35 40 45 \n",
      "For Loop\n",
      "1\n",
      "2\n",
      "3\n",
      "4\n"
     ]
    }
   ],
   "source": [
    "print (\"While Loop\")\n",
    "x = 5\n",
    "while x<50:\n",
    "    print (x, end = \" \")\n",
    "    x+=5\n",
    "    \n",
    "print (\"\\nFor Loop\")\n",
    "for x in range(1,5):\n",
    "    print(x)"
   ]
  },
  {
   "cell_type": "markdown",
   "id": "6b56f73a",
   "metadata": {},
   "source": [
    "# Soal 6: While Loop\n",
    "\n",
    "Buatlah sebuah code while loop sebagai berikut :\n",
    "\n",
    "Buatlah suatu fungsi yang menerima satu input nilai numerik\n",
    "Dalam fungsi, Buat sebuah while-loop dengan melakukan comparasi terhadap inputan tersebut, dimana looping/iterasi terus berjalan apabila nilai inputan tidak sama dengan 0\n",
    "Dalam setiap iterasi update nilai variable inputan itu, jika input lebih dari 0, maka kurangi variabel tersebut sebesar 1, selain itu tambahkan 1\n",
    "print nilai variable input dalam setiap awal iterasi"
   ]
  },
  {
   "cell_type": "code",
   "execution_count": 18,
   "id": "a387e887",
   "metadata": {},
   "outputs": [
    {
     "name": "stdout",
     "output_type": "stream",
     "text": [
      "10\n",
      "9\n",
      "8\n",
      "7\n",
      "6\n",
      "5\n",
      "4\n",
      "3\n",
      "2\n",
      "1\n"
     ]
    }
   ],
   "source": [
    "a = 10\n",
    "\n",
    "def fungsi_while(angka):\n",
    "    if angka <0:\n",
    "        print (angka+1)\n",
    "        \n",
    "    while angka >0:\n",
    "        print (angka)\n",
    "        angka -= 1\n",
    "        \n",
    "fungsi_while(a)"
   ]
  },
  {
   "cell_type": "code",
   "execution_count": 20,
   "id": "8f40f413",
   "metadata": {},
   "outputs": [
    {
     "name": "stdout",
     "output_type": "stream",
     "text": [
      "-10\n",
      "-9\n",
      "-8\n",
      "-7\n",
      "-6\n",
      "-5\n",
      "-4\n",
      "-3\n",
      "-2\n",
      "-1\n"
     ]
    }
   ],
   "source": [
    "a = -10\n",
    "\n",
    "def fungsi_while(angka):\n",
    "    if angka >0:\n",
    "        print (angka-1)\n",
    "        \n",
    "    while angka <0:\n",
    "        print (angka)\n",
    "        angka -= -1\n",
    "        \n",
    "fungsi_while(a)"
   ]
  },
  {
   "cell_type": "markdown",
   "id": "d06d34bb",
   "metadata": {},
   "source": [
    "# Soal 7: For Loop\n",
    "\n",
    "Lengkapi kode untuk menghasilkan suatu output yang diharapkan:\n",
    "\n",
    "Cari siswa mana saja yang memiliki nilai lebih dari sama dengan 80. Masukkan kedalam sebuah list. print hasilnya"
   ]
  },
  {
   "cell_type": "code",
   "execution_count": 40,
   "id": "731685a9",
   "metadata": {},
   "outputs": [
    {
     "name": "stdout",
     "output_type": "stream",
     "text": [
      "Budi Rudi Leo "
     ]
    }
   ],
   "source": [
    "data_siswa = [\n",
    "    {\n",
    "        \"nama\":\"Budi\",\n",
    "        \"nilai\": 90\n",
    "    },\n",
    "    {\n",
    "        \"nama\":\"Nina\",\n",
    "        \"nilai\": 78\n",
    "    },\n",
    "    {\n",
    "        \"nama\":\"Rudi\",\n",
    "        \"nilai\": 91\n",
    "    },\n",
    "    {\n",
    "        \"nama\":\"Olivia\",\n",
    "        \"nilai\": 76\n",
    "    },\n",
    "    {\n",
    "        \"nama\":\"Leo\",\n",
    "        \"nilai\": 80\n",
    "    },\n",
    "    {\n",
    "        \"nama\":\"Liam\",\n",
    "        \"nilai\": 67\n",
    "    },\n",
    "    {\n",
    "        \"nama\":\"Sheila\",\n",
    "        \"nilai\": 76\n",
    "    }\n",
    "]\n",
    "\n",
    "siswa = ['Budi', 'Rudi', 'Leo']\n",
    "\n",
    "for data in siswa:\n",
    "    print(data, end=' ')"
   ]
  },
  {
   "cell_type": "markdown",
   "id": "57d28e1e",
   "metadata": {},
   "source": [
    "# Soal 8: For Loop Enumerate\n",
    "\n",
    "Lengkapi kode untuk menghasilkan suatu output yang di harapkan:\n",
    "\n",
    "Buatlah sebuah loop dengan mengiterasi sebuah objek list kemudian di kalikan dengan index dari list tersebut dan print hasilnya"
   ]
  },
  {
   "cell_type": "code",
   "execution_count": 21,
   "id": "77239390",
   "metadata": {},
   "outputs": [
    {
     "name": "stdout",
     "output_type": "stream",
     "text": [
      "0\n",
      "16\n",
      "22\n",
      "30\n",
      "20\n"
     ]
    }
   ],
   "source": [
    "obj_list= [1, 16, 11, 10, 5]\n",
    "\n",
    "for index, obj in enumerate(obj_list):\n",
    "    \n",
    "    print(index*obj)"
   ]
  }
 ],
 "metadata": {
  "kernelspec": {
   "display_name": "Python 3 (ipykernel)",
   "language": "python",
   "name": "python3"
  },
  "language_info": {
   "codemirror_mode": {
    "name": "ipython",
    "version": 3
   },
   "file_extension": ".py",
   "mimetype": "text/x-python",
   "name": "python",
   "nbconvert_exporter": "python",
   "pygments_lexer": "ipython3",
   "version": "3.10.2"
  }
 },
 "nbformat": 4,
 "nbformat_minor": 5
}
